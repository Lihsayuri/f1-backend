{
 "cells": [
  {
   "cell_type": "code",
   "execution_count": 2,
   "metadata": {},
   "outputs": [
    {
     "name": "stdout",
     "output_type": "stream",
     "text": [
      "https://www.formula1.com/content/dam/fom-website/2018-redesign-assets/homepage/driver-standings-component/VALBOT01.png.transform/4col/image.png\n"
     ]
    }
   ],
   "source": [
    "import requests\n",
    "from bs4 import BeautifulSoup\n",
    "\n",
    "\n",
    "f1Page = 'https://www.formula1.com/en.html'\n",
    "result = requests.get(f1Page)\n",
    "result.content\n",
    "\n",
    "# if successful parse the download into a BeautifulSoup object, which allows easy manipulation \n",
    "if result.status_code == 200:\n",
    "    soup = BeautifulSoup(result.content, \"html.parser\")\n",
    "\n",
    "# find the object with HTML class wikitable sortable\n",
    "#print(soup)\n",
    "#const firstPlace = document.querySelector('.f1-podium--position.pos--1.d-none.d-md-inline-block')\n",
    "#const driverClass = firstPlace.querySelector('.driver-image')\n",
    "#const pictureFirstPlace = driverClass.querySelector('.lazy').getAttribute('data-src')\n",
    "classDriver1 = soup.find('a',{'class':'f1-podium--position pos--1 d-none d-md-inline-block'})\n",
    "classDriver1Img = classDriver1.find('picture',{'class':'driver-image'})\n",
    "pictureFirstPlace = classDriver1Img.find('img', {'class':'lazy'})['data-src']\n",
    "linkFirstPlaceImg = \"https://www.formula1.com\" + pictureFirstPlace \n",
    "\n",
    "#---------------------------------------------------------------------------------------------\n",
    "\n",
    "classDriver2 = soup.find('a',{'class':'f1-podium--position pos--2 d-none d-md-inline-block'})\n",
    "classDriver2Img = classDriver2.find('picture',{'class':'driver-image'})\n",
    "pictureSecondPlace = classDriver2Img.find('img', {'class':'lazy'})['data-src']\n",
    "linkSecondPlaceImg = \"https://www.formula1.com\" + pictureSecondPlace\n",
    "\n",
    "#----------------------------------------------------------------------------------------------\n",
    "\n",
    "classDriver3 = soup.find('a',{'class':'f1-podium--position pos--3 d-none d-md-inline-block'})\n",
    "classDriver3Img = classDriver3.find('picture',{'class':'driver-image'})\n",
    "pictureThirdPlace = classDriver3Img.find('img', {'class':'lazy'})['data-src']\n",
    "linkThirdPlaceImg = \"https://www.formula1.com\" + pictureThirdPlace\n",
    "\n",
    "\n",
    "img2 = soup.find('a',{'class':'f1-podium--position pos--2 d-none d-md-inline-block'})\n",
    "img3 = soup.find('a',{'class':'f1-podium--position pos--3 d-none d-md-inline-block'})\n",
    "print(linkThirdPlaceImg)\n",
    "#print(img2)"
   ]
  },
  {
   "cell_type": "code",
   "execution_count": 3,
   "metadata": {},
   "outputs": [
    {
     "name": "stdout",
     "output_type": "stream",
     "text": [
      "https://www.formula1.com/content/fom-website/en/teams/Ferrari/_jcr_content/teamCar.transform/4col/image.png\n"
     ]
    }
   ],
   "source": [
    "f1PageConstruc = 'https://www.formula1.com/en.html#constructors'\n",
    "result2 = requests.get(f1PageConstruc)\n",
    "result2.content\n",
    "\n",
    "# if successful parse the download into a BeautifulSoup object, which allows easy manipulation \n",
    "if result2.status_code == 200:\n",
    "    soup2 = BeautifulSoup(result2.content, \"html.parser\")\n",
    "\n",
    "classConstruc1 = soup2.find('div',{'class':'f1-podium--top-positions constructors'})\n",
    "classPos1 = classConstruc1.find('a', {'class':'f1-podium--position pos--1 d-none d-md-inline-block'})\n",
    "classLogo1 = classPos1.find('img', {'class': 'lazy'})['data-src']\n",
    "LogoImg1 = \"https://www.formula1.com\" + classLogo1\n",
    "\n",
    "classCar = classPos1.find('picture', {'class': 'car-image'})\n",
    "classCarImg = classCar.find('img', {'class': 'lazy'})['data-src']\n",
    "linkCarImg = \"https://www.formula1.com\" + classCarImg\n",
    "\n",
    "#-------------------------------------------------------------------------------------\n",
    "\n",
    "classConstruc2 = soup2.find('div',{'class':'f1-podium--top-positions constructors'})\n",
    "classPos2 = classConstruc2.find('a', {'class':'f1-podium--position pos--2 d-none d-md-inline-block'})\n",
    "classLogo2 = classPos2.find('img', {'class': 'lazy'})['data-src']\n",
    "LogoImg2 = \"https://www.formula1.com\" + classLogo2\n",
    "\n",
    "classCar2 = classPos2.find('picture', {'class': 'car-image'})\n",
    "classCarImg2 = classCar2.find('img', {'class': 'lazy'})['data-src']\n",
    "linkCarImg2 = \"https://www.formula1.com\" + classCarImg2\n",
    "\n",
    "#---------------------------------------------------------------------------------------\n",
    "\n",
    "classConstruc3 = soup2.find('div',{'class':'f1-podium--top-positions constructors'})\n",
    "classPos3 = classConstruc3.find('a', {'class':'f1-podium--position pos--3 d-none d-md-inline-block'})\n",
    "classLogo3 = classPos3.find('img', {'class': 'lazy'})['data-src']\n",
    "LogoImg3 = \"https://www.formula1.com\" + classLogo3\n",
    "\n",
    "classCar3 = classPos3.find('picture', {'class': 'car-image'})\n",
    "classCarImg3 = classCar3.find('img', {'class': 'lazy'})['data-src']\n",
    "linkCarImg3 = \"https://www.formula1.com\" + classCarImg3\n",
    "\n",
    "print(linkCarImg3)\n"
   ]
  },
  {
   "cell_type": "code",
   "execution_count": 64,
   "metadata": {},
   "outputs": [
    {
     "name": "stdout",
     "output_type": "stream",
     "text": [
      "{'drivers': {'driver-0': {'name': 'Sebastian Vettel', 'number': '5', 'imageURL': 'https://www.formula1.com/content/fom-website/en/drivers/sebastian-vettel/_jcr_content/image.img.320.medium.jpg/1617101458077.jpg'}, 'driver-1': {'name': 'Lance Stroll', 'number': '18', 'imageURL': 'https://www.formula1.com/content/fom-website/en/drivers/lance-stroll/_jcr_content/image.img.320.medium.jpg/1617101447217.jpg'}}, 'stats': {'Full Team Name': 'Aston Martin Cognizant F1 Team', 'Base': 'Silverstone, United Kingdom', 'Team Chief': 'Otmar Szafnauer', 'Technical Chief': 'Andrew Green', 'Chassis': 'AMR21', 'Power Unit': 'Mercedes', 'First Team Entry': '2018', 'World Championships': 'N/A', 'Highest Race Finish': '1 (x1)', 'Pole Positions': '1', 'Fastest Laps': 'N/A'}, 'teamLogo': 'https://www.formula1.com/content/fom-website/en/teams/Aston-Martin/_jcr_content/logo.img.png/1636626797971.png'}\n"
     ]
    }
   ],
   "source": [
    "def teamPage(team):\n",
    "    teamURL = f'https://www.formula1.com/en/teams/{team}.html'\n",
    "    result = requests.get(teamURL)\n",
    "    if result.status_code == 200:\n",
    "        teamDic = {}\n",
    "        driverNames = []\n",
    "        driverNums = []\n",
    "        driverImagesURL = []\n",
    "        driverDic = {}\n",
    "        statsDic = {}\n",
    "        teamLogoURL = \"https://www.formula1.com\"\n",
    "        \n",
    "        soup = BeautifulSoup(result.content, \"html.parser\")\n",
    "        teamInfo = soup.find('header', {'class':'team-details'})\n",
    "        stats = teamInfo.find('tbody')\n",
    "\n",
    "        teamLogoURL += teamInfo.find('img',{'class':'cq-dd-image'})['src']\n",
    "        \n",
    "        driverImages = teamInfo.find_all('div',{'class':'driver-image-crop-inner'})\n",
    "        for image in driverImages:\n",
    "            driverImagesURL.append(\"https://www.formula1.com\"+image.find('img')['src'])\n",
    "        for num in teamInfo.findAll('div', {'class': 'driver-number'}):\n",
    "            driverNums.append(num.find('span').decode_contents())\n",
    "        for name in teamInfo.findAll('h1', {'class':'driver-name'}):\n",
    "            driverNames.append(name.decode_contents())\n",
    "        for i in range(len(driverNames)):\n",
    "            driverDic[f'driver-{i}'] = {}\n",
    "            driverDic[f'driver-{i}']['name'] = driverNames[i]\n",
    "            driverDic[f'driver-{i}']['number'] = driverNums[i]  \n",
    "            driverDic[f'driver-{i}']['imageURL'] = driverImagesURL[i]          \n",
    "\n",
    "        statsKeys = stats.find_all('span')\n",
    "        statsValues = stats.find_all('td',{'class':'stat-value'})\n",
    "        for i in range(len(statsKeys)):\n",
    "            statsDic[statsKeys[i].decode_contents()] = statsValues[i].decode_contents()\n",
    "        \n",
    "        teamDic['drivers'] = driverDic\n",
    "        teamDic['stats'] = statsDic\n",
    "        teamDic['teamLogo'] = teamLogoURL \n",
    "        return teamDic\n",
    "\n",
    "    return 'error'\n",
    "\n",
    "a = teamPage('Aston-Martin')\n",
    "print(a)"
   ]
  }
 ],
 "metadata": {
  "kernelspec": {
   "display_name": "Python 3",
   "language": "python",
   "name": "python3"
  },
  "language_info": {
   "codemirror_mode": {
    "name": "ipython",
    "version": 3
   },
   "file_extension": ".py",
   "mimetype": "text/x-python",
   "name": "python",
   "nbconvert_exporter": "python",
   "pygments_lexer": "ipython3",
   "version": "3.8.10"
  }
 },
 "nbformat": 4,
 "nbformat_minor": 4
}
